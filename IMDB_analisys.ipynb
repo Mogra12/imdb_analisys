{
 "cells": [
  {
   "cell_type": "code",
   "execution_count": 8,
   "id": "7e0cdfd4-423e-44af-9bfe-ed58378e0342",
   "metadata": {},
   "outputs": [],
   "source": [
    "import pandas as pd\n",
    "import plotly.express as px"
   ]
  },
  {
   "cell_type": "code",
   "execution_count": 9,
   "id": "454f27c5-a5ef-4d04-8219-2259d8671914",
   "metadata": {},
   "outputs": [],
   "source": [
    "database = pd.read_csv('imdb_movie_dataset.csv')"
   ]
  },
  {
   "cell_type": "code",
   "execution_count": 10,
   "id": "e9f000c0-29f8-4541-886f-6a5f03e77d4c",
   "metadata": {
    "scrolled": true
   },
   "outputs": [
    {
     "data": {
      "text/html": [
       "<div>\n",
       "<style scoped>\n",
       "    .dataframe tbody tr th:only-of-type {\n",
       "        vertical-align: middle;\n",
       "    }\n",
       "\n",
       "    .dataframe tbody tr th {\n",
       "        vertical-align: top;\n",
       "    }\n",
       "\n",
       "    .dataframe thead th {\n",
       "        text-align: right;\n",
       "    }\n",
       "</style>\n",
       "<table border=\"1\" class=\"dataframe\">\n",
       "  <thead>\n",
       "    <tr style=\"text-align: right;\">\n",
       "      <th></th>\n",
       "      <th>Rank</th>\n",
       "      <th>Title</th>\n",
       "      <th>Genre</th>\n",
       "      <th>Year</th>\n",
       "      <th>Rating</th>\n",
       "    </tr>\n",
       "  </thead>\n",
       "  <tbody>\n",
       "    <tr>\n",
       "      <th>0</th>\n",
       "      <td>1</td>\n",
       "      <td>Guardians of the Galaxy</td>\n",
       "      <td>Action,Adventure,Sci-Fi</td>\n",
       "      <td>2014</td>\n",
       "      <td>8.1</td>\n",
       "    </tr>\n",
       "    <tr>\n",
       "      <th>1</th>\n",
       "      <td>2</td>\n",
       "      <td>Prometheus</td>\n",
       "      <td>Adventure,Mystery,Sci-Fi</td>\n",
       "      <td>2012</td>\n",
       "      <td>7.0</td>\n",
       "    </tr>\n",
       "    <tr>\n",
       "      <th>2</th>\n",
       "      <td>3</td>\n",
       "      <td>Split</td>\n",
       "      <td>Horror,Thriller</td>\n",
       "      <td>2016</td>\n",
       "      <td>7.3</td>\n",
       "    </tr>\n",
       "    <tr>\n",
       "      <th>3</th>\n",
       "      <td>4</td>\n",
       "      <td>Sing</td>\n",
       "      <td>Animation,Comedy,Family</td>\n",
       "      <td>2016</td>\n",
       "      <td>7.2</td>\n",
       "    </tr>\n",
       "    <tr>\n",
       "      <th>4</th>\n",
       "      <td>5</td>\n",
       "      <td>Suicide Squad</td>\n",
       "      <td>Action,Adventure,Fantasy</td>\n",
       "      <td>2016</td>\n",
       "      <td>6.2</td>\n",
       "    </tr>\n",
       "    <tr>\n",
       "      <th>...</th>\n",
       "      <td>...</td>\n",
       "      <td>...</td>\n",
       "      <td>...</td>\n",
       "      <td>...</td>\n",
       "      <td>...</td>\n",
       "    </tr>\n",
       "    <tr>\n",
       "      <th>245</th>\n",
       "      <td>246</td>\n",
       "      <td>Les Misérables</td>\n",
       "      <td>Drama,Musical,Romance</td>\n",
       "      <td>2012</td>\n",
       "      <td>7.6</td>\n",
       "    </tr>\n",
       "    <tr>\n",
       "      <th>246</th>\n",
       "      <td>247</td>\n",
       "      <td>Children of Men</td>\n",
       "      <td>Drama,Sci-Fi,Thriller</td>\n",
       "      <td>2006</td>\n",
       "      <td>7.9</td>\n",
       "    </tr>\n",
       "    <tr>\n",
       "      <th>247</th>\n",
       "      <td>248</td>\n",
       "      <td>20th Century Women</td>\n",
       "      <td>Comedy,Drama</td>\n",
       "      <td>2016</td>\n",
       "      <td>7.4</td>\n",
       "    </tr>\n",
       "    <tr>\n",
       "      <th>248</th>\n",
       "      <td>249</td>\n",
       "      <td>Spy</td>\n",
       "      <td>Action,Comedy,Crime</td>\n",
       "      <td>2015</td>\n",
       "      <td>7.1</td>\n",
       "    </tr>\n",
       "    <tr>\n",
       "      <th>249</th>\n",
       "      <td>250</td>\n",
       "      <td>The Intouchables</td>\n",
       "      <td>Biography,Comedy,Drama</td>\n",
       "      <td>2011</td>\n",
       "      <td>8.6</td>\n",
       "    </tr>\n",
       "  </tbody>\n",
       "</table>\n",
       "<p>250 rows × 5 columns</p>\n",
       "</div>"
      ],
      "text/plain": [
       "     Rank                    Title                     Genre  Year  Rating\n",
       "0       1  Guardians of the Galaxy   Action,Adventure,Sci-Fi  2014     8.1\n",
       "1       2               Prometheus  Adventure,Mystery,Sci-Fi  2012     7.0\n",
       "2       3                    Split           Horror,Thriller  2016     7.3\n",
       "3       4                     Sing   Animation,Comedy,Family  2016     7.2\n",
       "4       5            Suicide Squad  Action,Adventure,Fantasy  2016     6.2\n",
       "..    ...                      ...                       ...   ...     ...\n",
       "245   246           Les Misérables     Drama,Musical,Romance  2012     7.6\n",
       "246   247          Children of Men     Drama,Sci-Fi,Thriller  2006     7.9\n",
       "247   248       20th Century Women              Comedy,Drama  2016     7.4\n",
       "248   249                      Spy       Action,Comedy,Crime  2015     7.1\n",
       "249   250         The Intouchables    Biography,Comedy,Drama  2011     8.6\n",
       "\n",
       "[250 rows x 5 columns]"
      ]
     },
     "execution_count": 10,
     "metadata": {},
     "output_type": "execute_result"
    }
   ],
   "source": [
    "reduced_database = database.iloc[:250, :10]\n",
    "reduced_database.drop(['Director', 'Actors', 'Description', 'Runtime (Minutes)', 'Votes'], axis=1)"
   ]
  },
  {
   "cell_type": "code",
   "execution_count": 11,
   "id": "cb2de866-e711-4963-8289-2ad87627b6ae",
   "metadata": {},
   "outputs": [],
   "source": [
    "genres = database[[\"Genre\", \"Rating\"]].groupby(\"Genre\").sum()\n",
    "genres = genres.sort_values(by=\"Rating\", ascending=False)"
   ]
  },
  {
   "cell_type": "code",
   "execution_count": 12,
   "id": "9d26f058-3327-4465-b4a6-97c179ac55e3",
   "metadata": {},
   "outputs": [
    {
     "data": {
      "application/vnd.plotly.v1+json": {
       "config": {
        "plotlyServerURL": "https://plot.ly"
       },
       "data": [
        {
         "alignmentgroup": "True",
         "hovertemplate": "x=%{x}<br>y=%{y}<extra></extra>",
         "legendgroup": "",
         "marker": {
          "color": "#636efa",
          "pattern": {
           "shape": ""
          }
         },
         "name": "",
         "offsetgroup": "",
         "orientation": "v",
         "showlegend": false,
         "textposition": "auto",
         "type": "bar",
         "x": [
          "Action,Adventure,Sci-Fi",
          "Drama",
          "Comedy,Drama,Romance",
          "Drama,Romance",
          "Animation,Adventure,Comedy",
          "Comedy",
          "Comedy,Drama",
          "Action,Adventure,Fantasy",
          "Crime,Drama,Thriller",
          "Comedy,Romance",
          "Crime,Drama,Mystery",
          "Action,Adventure,Drama",
          "Action,Crime,Drama",
          "Drama,Thriller",
          "Biography,Drama",
          "Biography,Drama,History",
          "Adventure,Family,Fantasy",
          "Action,Adventure,Comedy",
          "Horror,Thriller",
          "Action,Comedy,Crime",
          "Action,Crime,Thriller",
          "Action,Adventure,Thriller",
          "Animation,Action,Adventure",
          "Crime,Drama",
          "Biography,Crime,Drama",
          "Horror",
          "Adventure,Comedy,Drama",
          "Action,Thriller",
          "Horror,Mystery,Thriller",
          "Biography,Drama,Sport",
          "Action,Biography,Drama",
          "Drama,Mystery,Thriller",
          "Thriller",
          "Biography,Comedy,Drama",
          "Comedy,Crime,Drama",
          "Action,Drama,Thriller",
          "Action,Sci-Fi,Thriller",
          "Mystery,Thriller",
          "Drama,Mystery,Sci-Fi",
          "Drama,Mystery,Romance",
          "Drama,Fantasy,Horror",
          "Horror,Mystery",
          "Action,Adventure,Crime",
          "Drama,Horror,Sci-Fi",
          "Action,Comedy",
          "Adventure,Drama,Fantasy",
          "Biography,Drama,Romance",
          "Animation,Comedy,Family",
          "Comedy,Drama,Music",
          "Drama,Sport",
          "Drama,Fantasy,Romance",
          "Comedy,Crime",
          "Action,Adventure,Mystery",
          "Drama,Horror",
          "Comedy,Family",
          "Drama,Horror,Thriller",
          "Adventure,Biography,Drama",
          "Drama,History,Thriller",
          "Adventure,Drama,Family",
          "Action,Horror,Sci-Fi",
          "Drama,Horror,Mystery",
          "Drama,Romance,Sci-Fi",
          "Drama,Sci-Fi,Thriller",
          "Action,Drama,Sci-Fi",
          "Crime,Horror,Thriller",
          "Action,Drama,History",
          "Drama,Music",
          "Adventure,Fantasy",
          "Biography,Drama,Thriller",
          "Adventure,Drama,Thriller",
          "Action,Adventure,Family",
          "Action,Sci-Fi",
          "Mystery,Sci-Fi,Thriller",
          "Action,Mystery,Thriller",
          "Adventure,Sci-Fi,Thriller",
          "Drama,War",
          "Action,Crime,Mystery",
          "Crime,Drama,Horror",
          "Action,Mystery,Sci-Fi",
          "Action,Adventure",
          "Action,Drama,Fantasy",
          "Action,Comedy,Fantasy",
          "Comedy,Drama,Family",
          "Comedy,Fantasy,Horror",
          "Drama,Romance,Thriller",
          "Action,Fantasy,Horror",
          "Action,Horror,Thriller",
          "Adventure,Drama,Sci-Fi",
          "Animation,Adventure,Family",
          "Horror,Sci-Fi,Thriller",
          "Crime,Drama,History",
          "Crime,Mystery,Thriller",
          "Drama,Sci-Fi",
          "Action,Drama,Sport",
          "Comedy,Drama,Fantasy",
          "Drama,Fantasy",
          "Action,Drama,Romance",
          "Action,Adventure,Biography",
          "Drama,History",
          "Adventure,Mystery,Sci-Fi",
          "Adventure,Drama,Romance",
          "Adventure,Comedy,Sci-Fi",
          "Comedy,Fantasy",
          "Action,Adventure,Western",
          "Action,Drama,Mystery",
          "Action,Comedy,Horror",
          "Action,Drama,Family",
          "Fantasy,Horror",
          "Comedy,Music",
          "Action,Adventure,Horror",
          "Action,Comedy,Romance",
          "Adventure,Comedy,Family",
          "Drama,Music,Romance",
          "Comedy,Drama,Horror",
          "Action",
          "Adventure,Comedy,Romance",
          "Comedy,Horror,Thriller",
          "Action,Adventure,Romance",
          "Adventure,Comedy",
          "Comedy,Horror",
          "Adventure,Horror",
          "Sci-Fi",
          "Animation,Drama,Fantasy",
          "Drama,Family,Music",
          "Drama,Western",
          "Animation,Drama,Romance",
          "Adventure,Drama,War",
          "Drama,Fantasy,War",
          "Drama,Mystery,War",
          "Biography,Comedy,Crime",
          "Comedy,Drama,Thriller",
          "Drama,Family",
          "Action,Comedy,Mystery",
          "Biography,Drama,Mystery",
          "Animation,Comedy,Drama",
          "Action,Fantasy,War",
          "Animation,Family,Fantasy",
          "Comedy,Fantasy,Romance",
          "Adventure,Comedy,Horror",
          "Drama,Musical,Romance",
          "Animation,Fantasy",
          "Adventure,Drama,Western",
          "Action,Drama,War",
          "Crime,Drama,Fantasy",
          "Drama,History,War",
          "Action,Drama,Horror",
          "Mystery,Romance,Sci-Fi",
          "Drama,Horror,Musical",
          "Drama,Fantasy,Musical",
          "Adventure,Drama,History",
          "Adventure,Biography,Crime",
          "Animation,Action,Comedy",
          "Drama,Thriller,War",
          "Adventure,Drama",
          "Biography,History,Thriller",
          "Comedy,Music,Romance",
          "Adventure,Drama,Horror",
          "Action,Biography,Crime",
          "Action,Thriller,War",
          "Romance,Sci-Fi,Thriller",
          "Mystery,Thriller,Western",
          "Biography,Drama,Family",
          "Drama,Family,Fantasy",
          "Action,Comedy,Sci-Fi",
          "Fantasy,Mystery,Thriller",
          "Drama,Romance,War",
          "Comedy,Horror,Romance",
          "Crime,Thriller",
          "Drama,Fantasy,Music",
          "Action,Horror,Mystery",
          "Adventure,Fantasy,Mystery",
          "Adventure,Family",
          "Drama,Fantasy,Thriller",
          "Action,Crime,Fantasy",
          "Adventure,Biography",
          "Adventure,Horror,Mystery",
          "Action,Comedy,Sport",
          "Adventure,Crime,Mystery",
          "Crime,Drama,Music",
          "Comedy,Horror,Sci-Fi",
          "Action,Comedy,Drama",
          "Comedy,Romance,Sport",
          "Comedy,Family,Musical",
          "Mystery,Romance,Thriller",
          "Comedy,Mystery",
          "Comedy,Crime,Thriller",
          "Action,Crime,Sci-Fi",
          "Comedy,Romance,Western",
          "Romance,Sci-Fi",
          "Adventure",
          "Action,Fantasy",
          "Comedy,Sci-Fi",
          "Comedy,Family,Romance",
          "Thriller,War",
          "Comedy,Drama,Musical",
          "Horror,Mystery,Sci-Fi",
          "Action,Horror,Romance",
          "Adventure,Comedy,Fantasy",
          "Drama,Fantasy,Mystery",
          "Action,Comedy,Family",
          "Comedy,Family,Fantasy",
          "Action,Crime,Sport",
          "Action,Horror",
          "Action,Fantasy,Thriller",
          "Sci-Fi,Thriller",
          "Comedy,Western",
          "Fantasy,Horror,Thriller"
         ],
         "xaxis": "x",
         "y": [
          336.2,
          332.9,
          232.8,
          216.5,
          194.4,
          193,
          192.1,
          170.9,
          164.6,
          159.8,
          156.6,
          117.8,
          115,
          105.9,
          103.8,
          100.9,
          93.8,
          92.3,
          90.3,
          81.9,
          79.2,
          77.3,
          65.3,
          64,
          63.6,
          59.9,
          59.3,
          59.2,
          58.3,
          58.1,
          56.9,
          55.5,
          53.6,
          52.2,
          49.2,
          47.3,
          47.2,
          46.8,
          46.3,
          44.3,
          39.6,
          39.3,
          38.6,
          38.5,
          38.2,
          36.9,
          36.4,
          35.5,
          35.2,
          35,
          34.3,
          33.4,
          33.3,
          32.9,
          31.5,
          31.4,
          30.099999999999998,
          30,
          28.9,
          28.7,
          28.099999999999998,
          27.9,
          27.9,
          27.2,
          26.3,
          24,
          23.4,
          23.200000000000003,
          23.2,
          22.7,
          22.3,
          21.9,
          21.7,
          21.6,
          20.8,
          20.8,
          20.1,
          19.9,
          19.6,
          19.2,
          18.5,
          18.4,
          18.4,
          18.1,
          17.9,
          17.5,
          17.4,
          16.6,
          16.3,
          16.3,
          15.8,
          15.2,
          14.8,
          14.799999999999999,
          14.7,
          14.3,
          14.2,
          14,
          14,
          13.7,
          13.6,
          13.6,
          13.6,
          13.4,
          13.399999999999999,
          13.399999999999999,
          13.3,
          13.3,
          13.2,
          12.9,
          12.6,
          12.5,
          12.4,
          12.4,
          12.3,
          12.3,
          11.7,
          11.7,
          11.7,
          11.3,
          10.600000000000001,
          9.9,
          8.6,
          8.5,
          8.4,
          8.4,
          8.3,
          8.2,
          8.2,
          8.2,
          8.1,
          8.1,
          7.9,
          7.8,
          7.8,
          7.7,
          7.7,
          7.7,
          7.7,
          7.6,
          7.6,
          7.6,
          7.6,
          7.5,
          7.5,
          7.5,
          7.5,
          7.4,
          7.4,
          7.3,
          7.3,
          7.3,
          7.3,
          7.3,
          7.2,
          7.2,
          7.1,
          7.1,
          7.1,
          7.1,
          7.1,
          7,
          7,
          7,
          6.9,
          6.9,
          6.9,
          6.9,
          6.8,
          6.8,
          6.8,
          6.8,
          6.7,
          6.7,
          6.7,
          6.6,
          6.6,
          6.6,
          6.5,
          6.5,
          6.4,
          6.4,
          6.4,
          6.3,
          6.3,
          6.3,
          6.2,
          6.1,
          6.1,
          6.1,
          6.1,
          6,
          6,
          6,
          5.9,
          5.8,
          5.8,
          5.6,
          5.6,
          5.6,
          5.3,
          5.3,
          5.3,
          5.2,
          5,
          4.8,
          3.2
         ],
         "yaxis": "y"
        }
       ],
       "layout": {
        "barmode": "relative",
        "legend": {
         "tracegroupgap": 0
        },
        "margin": {
         "t": 60
        },
        "template": {
         "data": {
          "bar": [
           {
            "error_x": {
             "color": "#2a3f5f"
            },
            "error_y": {
             "color": "#2a3f5f"
            },
            "marker": {
             "line": {
              "color": "#E5ECF6",
              "width": 0.5
             },
             "pattern": {
              "fillmode": "overlay",
              "size": 10,
              "solidity": 0.2
             }
            },
            "type": "bar"
           }
          ],
          "barpolar": [
           {
            "marker": {
             "line": {
              "color": "#E5ECF6",
              "width": 0.5
             },
             "pattern": {
              "fillmode": "overlay",
              "size": 10,
              "solidity": 0.2
             }
            },
            "type": "barpolar"
           }
          ],
          "carpet": [
           {
            "aaxis": {
             "endlinecolor": "#2a3f5f",
             "gridcolor": "white",
             "linecolor": "white",
             "minorgridcolor": "white",
             "startlinecolor": "#2a3f5f"
            },
            "baxis": {
             "endlinecolor": "#2a3f5f",
             "gridcolor": "white",
             "linecolor": "white",
             "minorgridcolor": "white",
             "startlinecolor": "#2a3f5f"
            },
            "type": "carpet"
           }
          ],
          "choropleth": [
           {
            "colorbar": {
             "outlinewidth": 0,
             "ticks": ""
            },
            "type": "choropleth"
           }
          ],
          "contour": [
           {
            "colorbar": {
             "outlinewidth": 0,
             "ticks": ""
            },
            "colorscale": [
             [
              0,
              "#0d0887"
             ],
             [
              0.1111111111111111,
              "#46039f"
             ],
             [
              0.2222222222222222,
              "#7201a8"
             ],
             [
              0.3333333333333333,
              "#9c179e"
             ],
             [
              0.4444444444444444,
              "#bd3786"
             ],
             [
              0.5555555555555556,
              "#d8576b"
             ],
             [
              0.6666666666666666,
              "#ed7953"
             ],
             [
              0.7777777777777778,
              "#fb9f3a"
             ],
             [
              0.8888888888888888,
              "#fdca26"
             ],
             [
              1,
              "#f0f921"
             ]
            ],
            "type": "contour"
           }
          ],
          "contourcarpet": [
           {
            "colorbar": {
             "outlinewidth": 0,
             "ticks": ""
            },
            "type": "contourcarpet"
           }
          ],
          "heatmap": [
           {
            "colorbar": {
             "outlinewidth": 0,
             "ticks": ""
            },
            "colorscale": [
             [
              0,
              "#0d0887"
             ],
             [
              0.1111111111111111,
              "#46039f"
             ],
             [
              0.2222222222222222,
              "#7201a8"
             ],
             [
              0.3333333333333333,
              "#9c179e"
             ],
             [
              0.4444444444444444,
              "#bd3786"
             ],
             [
              0.5555555555555556,
              "#d8576b"
             ],
             [
              0.6666666666666666,
              "#ed7953"
             ],
             [
              0.7777777777777778,
              "#fb9f3a"
             ],
             [
              0.8888888888888888,
              "#fdca26"
             ],
             [
              1,
              "#f0f921"
             ]
            ],
            "type": "heatmap"
           }
          ],
          "heatmapgl": [
           {
            "colorbar": {
             "outlinewidth": 0,
             "ticks": ""
            },
            "colorscale": [
             [
              0,
              "#0d0887"
             ],
             [
              0.1111111111111111,
              "#46039f"
             ],
             [
              0.2222222222222222,
              "#7201a8"
             ],
             [
              0.3333333333333333,
              "#9c179e"
             ],
             [
              0.4444444444444444,
              "#bd3786"
             ],
             [
              0.5555555555555556,
              "#d8576b"
             ],
             [
              0.6666666666666666,
              "#ed7953"
             ],
             [
              0.7777777777777778,
              "#fb9f3a"
             ],
             [
              0.8888888888888888,
              "#fdca26"
             ],
             [
              1,
              "#f0f921"
             ]
            ],
            "type": "heatmapgl"
           }
          ],
          "histogram": [
           {
            "marker": {
             "pattern": {
              "fillmode": "overlay",
              "size": 10,
              "solidity": 0.2
             }
            },
            "type": "histogram"
           }
          ],
          "histogram2d": [
           {
            "colorbar": {
             "outlinewidth": 0,
             "ticks": ""
            },
            "colorscale": [
             [
              0,
              "#0d0887"
             ],
             [
              0.1111111111111111,
              "#46039f"
             ],
             [
              0.2222222222222222,
              "#7201a8"
             ],
             [
              0.3333333333333333,
              "#9c179e"
             ],
             [
              0.4444444444444444,
              "#bd3786"
             ],
             [
              0.5555555555555556,
              "#d8576b"
             ],
             [
              0.6666666666666666,
              "#ed7953"
             ],
             [
              0.7777777777777778,
              "#fb9f3a"
             ],
             [
              0.8888888888888888,
              "#fdca26"
             ],
             [
              1,
              "#f0f921"
             ]
            ],
            "type": "histogram2d"
           }
          ],
          "histogram2dcontour": [
           {
            "colorbar": {
             "outlinewidth": 0,
             "ticks": ""
            },
            "colorscale": [
             [
              0,
              "#0d0887"
             ],
             [
              0.1111111111111111,
              "#46039f"
             ],
             [
              0.2222222222222222,
              "#7201a8"
             ],
             [
              0.3333333333333333,
              "#9c179e"
             ],
             [
              0.4444444444444444,
              "#bd3786"
             ],
             [
              0.5555555555555556,
              "#d8576b"
             ],
             [
              0.6666666666666666,
              "#ed7953"
             ],
             [
              0.7777777777777778,
              "#fb9f3a"
             ],
             [
              0.8888888888888888,
              "#fdca26"
             ],
             [
              1,
              "#f0f921"
             ]
            ],
            "type": "histogram2dcontour"
           }
          ],
          "mesh3d": [
           {
            "colorbar": {
             "outlinewidth": 0,
             "ticks": ""
            },
            "type": "mesh3d"
           }
          ],
          "parcoords": [
           {
            "line": {
             "colorbar": {
              "outlinewidth": 0,
              "ticks": ""
             }
            },
            "type": "parcoords"
           }
          ],
          "pie": [
           {
            "automargin": true,
            "type": "pie"
           }
          ],
          "scatter": [
           {
            "fillpattern": {
             "fillmode": "overlay",
             "size": 10,
             "solidity": 0.2
            },
            "type": "scatter"
           }
          ],
          "scatter3d": [
           {
            "line": {
             "colorbar": {
              "outlinewidth": 0,
              "ticks": ""
             }
            },
            "marker": {
             "colorbar": {
              "outlinewidth": 0,
              "ticks": ""
             }
            },
            "type": "scatter3d"
           }
          ],
          "scattercarpet": [
           {
            "marker": {
             "colorbar": {
              "outlinewidth": 0,
              "ticks": ""
             }
            },
            "type": "scattercarpet"
           }
          ],
          "scattergeo": [
           {
            "marker": {
             "colorbar": {
              "outlinewidth": 0,
              "ticks": ""
             }
            },
            "type": "scattergeo"
           }
          ],
          "scattergl": [
           {
            "marker": {
             "colorbar": {
              "outlinewidth": 0,
              "ticks": ""
             }
            },
            "type": "scattergl"
           }
          ],
          "scattermapbox": [
           {
            "marker": {
             "colorbar": {
              "outlinewidth": 0,
              "ticks": ""
             }
            },
            "type": "scattermapbox"
           }
          ],
          "scatterpolar": [
           {
            "marker": {
             "colorbar": {
              "outlinewidth": 0,
              "ticks": ""
             }
            },
            "type": "scatterpolar"
           }
          ],
          "scatterpolargl": [
           {
            "marker": {
             "colorbar": {
              "outlinewidth": 0,
              "ticks": ""
             }
            },
            "type": "scatterpolargl"
           }
          ],
          "scatterternary": [
           {
            "marker": {
             "colorbar": {
              "outlinewidth": 0,
              "ticks": ""
             }
            },
            "type": "scatterternary"
           }
          ],
          "surface": [
           {
            "colorbar": {
             "outlinewidth": 0,
             "ticks": ""
            },
            "colorscale": [
             [
              0,
              "#0d0887"
             ],
             [
              0.1111111111111111,
              "#46039f"
             ],
             [
              0.2222222222222222,
              "#7201a8"
             ],
             [
              0.3333333333333333,
              "#9c179e"
             ],
             [
              0.4444444444444444,
              "#bd3786"
             ],
             [
              0.5555555555555556,
              "#d8576b"
             ],
             [
              0.6666666666666666,
              "#ed7953"
             ],
             [
              0.7777777777777778,
              "#fb9f3a"
             ],
             [
              0.8888888888888888,
              "#fdca26"
             ],
             [
              1,
              "#f0f921"
             ]
            ],
            "type": "surface"
           }
          ],
          "table": [
           {
            "cells": {
             "fill": {
              "color": "#EBF0F8"
             },
             "line": {
              "color": "white"
             }
            },
            "header": {
             "fill": {
              "color": "#C8D4E3"
             },
             "line": {
              "color": "white"
             }
            },
            "type": "table"
           }
          ]
         },
         "layout": {
          "annotationdefaults": {
           "arrowcolor": "#2a3f5f",
           "arrowhead": 0,
           "arrowwidth": 1
          },
          "autotypenumbers": "strict",
          "coloraxis": {
           "colorbar": {
            "outlinewidth": 0,
            "ticks": ""
           }
          },
          "colorscale": {
           "diverging": [
            [
             0,
             "#8e0152"
            ],
            [
             0.1,
             "#c51b7d"
            ],
            [
             0.2,
             "#de77ae"
            ],
            [
             0.3,
             "#f1b6da"
            ],
            [
             0.4,
             "#fde0ef"
            ],
            [
             0.5,
             "#f7f7f7"
            ],
            [
             0.6,
             "#e6f5d0"
            ],
            [
             0.7,
             "#b8e186"
            ],
            [
             0.8,
             "#7fbc41"
            ],
            [
             0.9,
             "#4d9221"
            ],
            [
             1,
             "#276419"
            ]
           ],
           "sequential": [
            [
             0,
             "#0d0887"
            ],
            [
             0.1111111111111111,
             "#46039f"
            ],
            [
             0.2222222222222222,
             "#7201a8"
            ],
            [
             0.3333333333333333,
             "#9c179e"
            ],
            [
             0.4444444444444444,
             "#bd3786"
            ],
            [
             0.5555555555555556,
             "#d8576b"
            ],
            [
             0.6666666666666666,
             "#ed7953"
            ],
            [
             0.7777777777777778,
             "#fb9f3a"
            ],
            [
             0.8888888888888888,
             "#fdca26"
            ],
            [
             1,
             "#f0f921"
            ]
           ],
           "sequentialminus": [
            [
             0,
             "#0d0887"
            ],
            [
             0.1111111111111111,
             "#46039f"
            ],
            [
             0.2222222222222222,
             "#7201a8"
            ],
            [
             0.3333333333333333,
             "#9c179e"
            ],
            [
             0.4444444444444444,
             "#bd3786"
            ],
            [
             0.5555555555555556,
             "#d8576b"
            ],
            [
             0.6666666666666666,
             "#ed7953"
            ],
            [
             0.7777777777777778,
             "#fb9f3a"
            ],
            [
             0.8888888888888888,
             "#fdca26"
            ],
            [
             1,
             "#f0f921"
            ]
           ]
          },
          "colorway": [
           "#636efa",
           "#EF553B",
           "#00cc96",
           "#ab63fa",
           "#FFA15A",
           "#19d3f3",
           "#FF6692",
           "#B6E880",
           "#FF97FF",
           "#FECB52"
          ],
          "font": {
           "color": "#2a3f5f"
          },
          "geo": {
           "bgcolor": "white",
           "lakecolor": "white",
           "landcolor": "#E5ECF6",
           "showlakes": true,
           "showland": true,
           "subunitcolor": "white"
          },
          "hoverlabel": {
           "align": "left"
          },
          "hovermode": "closest",
          "mapbox": {
           "style": "light"
          },
          "paper_bgcolor": "white",
          "plot_bgcolor": "#E5ECF6",
          "polar": {
           "angularaxis": {
            "gridcolor": "white",
            "linecolor": "white",
            "ticks": ""
           },
           "bgcolor": "#E5ECF6",
           "radialaxis": {
            "gridcolor": "white",
            "linecolor": "white",
            "ticks": ""
           }
          },
          "scene": {
           "xaxis": {
            "backgroundcolor": "#E5ECF6",
            "gridcolor": "white",
            "gridwidth": 2,
            "linecolor": "white",
            "showbackground": true,
            "ticks": "",
            "zerolinecolor": "white"
           },
           "yaxis": {
            "backgroundcolor": "#E5ECF6",
            "gridcolor": "white",
            "gridwidth": 2,
            "linecolor": "white",
            "showbackground": true,
            "ticks": "",
            "zerolinecolor": "white"
           },
           "zaxis": {
            "backgroundcolor": "#E5ECF6",
            "gridcolor": "white",
            "gridwidth": 2,
            "linecolor": "white",
            "showbackground": true,
            "ticks": "",
            "zerolinecolor": "white"
           }
          },
          "shapedefaults": {
           "line": {
            "color": "#2a3f5f"
           }
          },
          "ternary": {
           "aaxis": {
            "gridcolor": "white",
            "linecolor": "white",
            "ticks": ""
           },
           "baxis": {
            "gridcolor": "white",
            "linecolor": "white",
            "ticks": ""
           },
           "bgcolor": "#E5ECF6",
           "caxis": {
            "gridcolor": "white",
            "linecolor": "white",
            "ticks": ""
           }
          },
          "title": {
           "x": 0.05
          },
          "xaxis": {
           "automargin": true,
           "gridcolor": "white",
           "linecolor": "white",
           "ticks": "",
           "title": {
            "standoff": 15
           },
           "zerolinecolor": "white",
           "zerolinewidth": 2
          },
          "yaxis": {
           "automargin": true,
           "gridcolor": "white",
           "linecolor": "white",
           "ticks": "",
           "title": {
            "standoff": 15
           },
           "zerolinecolor": "white",
           "zerolinewidth": 2
          }
         }
        },
        "xaxis": {
         "anchor": "y",
         "domain": [
          0,
          1
         ],
         "title": {
          "text": ""
         }
        },
        "yaxis": {
         "anchor": "x",
         "domain": [
          0,
          1
         ],
         "title": {
          "text": "Notas"
         }
        }
       }
      },
      "text/html": [
       "<div>                            <div id=\"81cd552b-1e12-4233-a4cf-88a2f826d477\" class=\"plotly-graph-div\" style=\"height:525px; width:100%;\"></div>            <script type=\"text/javascript\">                require([\"plotly\"], function(Plotly) {                    window.PLOTLYENV=window.PLOTLYENV || {};                                    if (document.getElementById(\"81cd552b-1e12-4233-a4cf-88a2f826d477\")) {                    Plotly.newPlot(                        \"81cd552b-1e12-4233-a4cf-88a2f826d477\",                        [{\"alignmentgroup\":\"True\",\"hovertemplate\":\"x=%{x}\\u003cbr\\u003ey=%{y}\\u003cextra\\u003e\\u003c\\u002fextra\\u003e\",\"legendgroup\":\"\",\"marker\":{\"color\":\"#636efa\",\"pattern\":{\"shape\":\"\"}},\"name\":\"\",\"offsetgroup\":\"\",\"orientation\":\"v\",\"showlegend\":false,\"textposition\":\"auto\",\"x\":[\"Action,Adventure,Sci-Fi\",\"Drama\",\"Comedy,Drama,Romance\",\"Drama,Romance\",\"Animation,Adventure,Comedy\",\"Comedy\",\"Comedy,Drama\",\"Action,Adventure,Fantasy\",\"Crime,Drama,Thriller\",\"Comedy,Romance\",\"Crime,Drama,Mystery\",\"Action,Adventure,Drama\",\"Action,Crime,Drama\",\"Drama,Thriller\",\"Biography,Drama\",\"Biography,Drama,History\",\"Adventure,Family,Fantasy\",\"Action,Adventure,Comedy\",\"Horror,Thriller\",\"Action,Comedy,Crime\",\"Action,Crime,Thriller\",\"Action,Adventure,Thriller\",\"Animation,Action,Adventure\",\"Crime,Drama\",\"Biography,Crime,Drama\",\"Horror\",\"Adventure,Comedy,Drama\",\"Action,Thriller\",\"Horror,Mystery,Thriller\",\"Biography,Drama,Sport\",\"Action,Biography,Drama\",\"Drama,Mystery,Thriller\",\"Thriller\",\"Biography,Comedy,Drama\",\"Comedy,Crime,Drama\",\"Action,Drama,Thriller\",\"Action,Sci-Fi,Thriller\",\"Mystery,Thriller\",\"Drama,Mystery,Sci-Fi\",\"Drama,Mystery,Romance\",\"Drama,Fantasy,Horror\",\"Horror,Mystery\",\"Action,Adventure,Crime\",\"Drama,Horror,Sci-Fi\",\"Action,Comedy\",\"Adventure,Drama,Fantasy\",\"Biography,Drama,Romance\",\"Animation,Comedy,Family\",\"Comedy,Drama,Music\",\"Drama,Sport\",\"Drama,Fantasy,Romance\",\"Comedy,Crime\",\"Action,Adventure,Mystery\",\"Drama,Horror\",\"Comedy,Family\",\"Drama,Horror,Thriller\",\"Adventure,Biography,Drama\",\"Drama,History,Thriller\",\"Adventure,Drama,Family\",\"Action,Horror,Sci-Fi\",\"Drama,Horror,Mystery\",\"Drama,Romance,Sci-Fi\",\"Drama,Sci-Fi,Thriller\",\"Action,Drama,Sci-Fi\",\"Crime,Horror,Thriller\",\"Action,Drama,History\",\"Drama,Music\",\"Adventure,Fantasy\",\"Biography,Drama,Thriller\",\"Adventure,Drama,Thriller\",\"Action,Adventure,Family\",\"Action,Sci-Fi\",\"Mystery,Sci-Fi,Thriller\",\"Action,Mystery,Thriller\",\"Adventure,Sci-Fi,Thriller\",\"Drama,War\",\"Action,Crime,Mystery\",\"Crime,Drama,Horror\",\"Action,Mystery,Sci-Fi\",\"Action,Adventure\",\"Action,Drama,Fantasy\",\"Action,Comedy,Fantasy\",\"Comedy,Drama,Family\",\"Comedy,Fantasy,Horror\",\"Drama,Romance,Thriller\",\"Action,Fantasy,Horror\",\"Action,Horror,Thriller\",\"Adventure,Drama,Sci-Fi\",\"Animation,Adventure,Family\",\"Horror,Sci-Fi,Thriller\",\"Crime,Drama,History\",\"Crime,Mystery,Thriller\",\"Drama,Sci-Fi\",\"Action,Drama,Sport\",\"Comedy,Drama,Fantasy\",\"Drama,Fantasy\",\"Action,Drama,Romance\",\"Action,Adventure,Biography\",\"Drama,History\",\"Adventure,Mystery,Sci-Fi\",\"Adventure,Drama,Romance\",\"Adventure,Comedy,Sci-Fi\",\"Comedy,Fantasy\",\"Action,Adventure,Western\",\"Action,Drama,Mystery\",\"Action,Comedy,Horror\",\"Action,Drama,Family\",\"Fantasy,Horror\",\"Comedy,Music\",\"Action,Adventure,Horror\",\"Action,Comedy,Romance\",\"Adventure,Comedy,Family\",\"Drama,Music,Romance\",\"Comedy,Drama,Horror\",\"Action\",\"Adventure,Comedy,Romance\",\"Comedy,Horror,Thriller\",\"Action,Adventure,Romance\",\"Adventure,Comedy\",\"Comedy,Horror\",\"Adventure,Horror\",\"Sci-Fi\",\"Animation,Drama,Fantasy\",\"Drama,Family,Music\",\"Drama,Western\",\"Animation,Drama,Romance\",\"Adventure,Drama,War\",\"Drama,Fantasy,War\",\"Drama,Mystery,War\",\"Biography,Comedy,Crime\",\"Comedy,Drama,Thriller\",\"Drama,Family\",\"Action,Comedy,Mystery\",\"Biography,Drama,Mystery\",\"Animation,Comedy,Drama\",\"Action,Fantasy,War\",\"Animation,Family,Fantasy\",\"Comedy,Fantasy,Romance\",\"Adventure,Comedy,Horror\",\"Drama,Musical,Romance\",\"Animation,Fantasy\",\"Adventure,Drama,Western\",\"Action,Drama,War\",\"Crime,Drama,Fantasy\",\"Drama,History,War\",\"Action,Drama,Horror\",\"Mystery,Romance,Sci-Fi\",\"Drama,Horror,Musical\",\"Drama,Fantasy,Musical\",\"Adventure,Drama,History\",\"Adventure,Biography,Crime\",\"Animation,Action,Comedy\",\"Drama,Thriller,War\",\"Adventure,Drama\",\"Biography,History,Thriller\",\"Comedy,Music,Romance\",\"Adventure,Drama,Horror\",\"Action,Biography,Crime\",\"Action,Thriller,War\",\"Romance,Sci-Fi,Thriller\",\"Mystery,Thriller,Western\",\"Biography,Drama,Family\",\"Drama,Family,Fantasy\",\"Action,Comedy,Sci-Fi\",\"Fantasy,Mystery,Thriller\",\"Drama,Romance,War\",\"Comedy,Horror,Romance\",\"Crime,Thriller\",\"Drama,Fantasy,Music\",\"Action,Horror,Mystery\",\"Adventure,Fantasy,Mystery\",\"Adventure,Family\",\"Drama,Fantasy,Thriller\",\"Action,Crime,Fantasy\",\"Adventure,Biography\",\"Adventure,Horror,Mystery\",\"Action,Comedy,Sport\",\"Adventure,Crime,Mystery\",\"Crime,Drama,Music\",\"Comedy,Horror,Sci-Fi\",\"Action,Comedy,Drama\",\"Comedy,Romance,Sport\",\"Comedy,Family,Musical\",\"Mystery,Romance,Thriller\",\"Comedy,Mystery\",\"Comedy,Crime,Thriller\",\"Action,Crime,Sci-Fi\",\"Comedy,Romance,Western\",\"Romance,Sci-Fi\",\"Adventure\",\"Action,Fantasy\",\"Comedy,Sci-Fi\",\"Comedy,Family,Romance\",\"Thriller,War\",\"Comedy,Drama,Musical\",\"Horror,Mystery,Sci-Fi\",\"Action,Horror,Romance\",\"Adventure,Comedy,Fantasy\",\"Drama,Fantasy,Mystery\",\"Action,Comedy,Family\",\"Comedy,Family,Fantasy\",\"Action,Crime,Sport\",\"Action,Horror\",\"Action,Fantasy,Thriller\",\"Sci-Fi,Thriller\",\"Comedy,Western\",\"Fantasy,Horror,Thriller\"],\"xaxis\":\"x\",\"y\":[336.2,332.9,232.8,216.5,194.4,193.0,192.1,170.9,164.6,159.8,156.6,117.8,115.0,105.9,103.8,100.9,93.8,92.3,90.3,81.9,79.2,77.3,65.3,64.0,63.6,59.9,59.3,59.2,58.3,58.1,56.9,55.5,53.6,52.2,49.2,47.3,47.2,46.8,46.3,44.3,39.6,39.3,38.6,38.5,38.2,36.9,36.4,35.5,35.2,35.0,34.3,33.4,33.3,32.9,31.5,31.4,30.099999999999998,30.0,28.9,28.7,28.099999999999998,27.9,27.9,27.2,26.3,24.0,23.4,23.200000000000003,23.2,22.7,22.3,21.9,21.7,21.6,20.8,20.8,20.1,19.9,19.6,19.2,18.5,18.4,18.4,18.1,17.9,17.5,17.4,16.6,16.3,16.3,15.8,15.2,14.8,14.799999999999999,14.7,14.3,14.2,14.0,14.0,13.7,13.6,13.6,13.6,13.4,13.399999999999999,13.399999999999999,13.3,13.3,13.2,12.9,12.6,12.5,12.4,12.4,12.3,12.3,11.7,11.7,11.7,11.3,10.600000000000001,9.9,8.6,8.5,8.4,8.4,8.3,8.2,8.2,8.2,8.1,8.1,7.9,7.8,7.8,7.7,7.7,7.7,7.7,7.6,7.6,7.6,7.6,7.5,7.5,7.5,7.5,7.4,7.4,7.3,7.3,7.3,7.3,7.3,7.2,7.2,7.1,7.1,7.1,7.1,7.1,7.0,7.0,7.0,6.9,6.9,6.9,6.9,6.8,6.8,6.8,6.8,6.7,6.7,6.7,6.6,6.6,6.6,6.5,6.5,6.4,6.4,6.4,6.3,6.3,6.3,6.2,6.1,6.1,6.1,6.1,6.0,6.0,6.0,5.9,5.8,5.8,5.6,5.6,5.6,5.3,5.3,5.3,5.2,5.0,4.8,3.2],\"yaxis\":\"y\",\"type\":\"bar\"}],                        {\"template\":{\"data\":{\"histogram2dcontour\":[{\"type\":\"histogram2dcontour\",\"colorbar\":{\"outlinewidth\":0,\"ticks\":\"\"},\"colorscale\":[[0.0,\"#0d0887\"],[0.1111111111111111,\"#46039f\"],[0.2222222222222222,\"#7201a8\"],[0.3333333333333333,\"#9c179e\"],[0.4444444444444444,\"#bd3786\"],[0.5555555555555556,\"#d8576b\"],[0.6666666666666666,\"#ed7953\"],[0.7777777777777778,\"#fb9f3a\"],[0.8888888888888888,\"#fdca26\"],[1.0,\"#f0f921\"]]}],\"choropleth\":[{\"type\":\"choropleth\",\"colorbar\":{\"outlinewidth\":0,\"ticks\":\"\"}}],\"histogram2d\":[{\"type\":\"histogram2d\",\"colorbar\":{\"outlinewidth\":0,\"ticks\":\"\"},\"colorscale\":[[0.0,\"#0d0887\"],[0.1111111111111111,\"#46039f\"],[0.2222222222222222,\"#7201a8\"],[0.3333333333333333,\"#9c179e\"],[0.4444444444444444,\"#bd3786\"],[0.5555555555555556,\"#d8576b\"],[0.6666666666666666,\"#ed7953\"],[0.7777777777777778,\"#fb9f3a\"],[0.8888888888888888,\"#fdca26\"],[1.0,\"#f0f921\"]]}],\"heatmap\":[{\"type\":\"heatmap\",\"colorbar\":{\"outlinewidth\":0,\"ticks\":\"\"},\"colorscale\":[[0.0,\"#0d0887\"],[0.1111111111111111,\"#46039f\"],[0.2222222222222222,\"#7201a8\"],[0.3333333333333333,\"#9c179e\"],[0.4444444444444444,\"#bd3786\"],[0.5555555555555556,\"#d8576b\"],[0.6666666666666666,\"#ed7953\"],[0.7777777777777778,\"#fb9f3a\"],[0.8888888888888888,\"#fdca26\"],[1.0,\"#f0f921\"]]}],\"heatmapgl\":[{\"type\":\"heatmapgl\",\"colorbar\":{\"outlinewidth\":0,\"ticks\":\"\"},\"colorscale\":[[0.0,\"#0d0887\"],[0.1111111111111111,\"#46039f\"],[0.2222222222222222,\"#7201a8\"],[0.3333333333333333,\"#9c179e\"],[0.4444444444444444,\"#bd3786\"],[0.5555555555555556,\"#d8576b\"],[0.6666666666666666,\"#ed7953\"],[0.7777777777777778,\"#fb9f3a\"],[0.8888888888888888,\"#fdca26\"],[1.0,\"#f0f921\"]]}],\"contourcarpet\":[{\"type\":\"contourcarpet\",\"colorbar\":{\"outlinewidth\":0,\"ticks\":\"\"}}],\"contour\":[{\"type\":\"contour\",\"colorbar\":{\"outlinewidth\":0,\"ticks\":\"\"},\"colorscale\":[[0.0,\"#0d0887\"],[0.1111111111111111,\"#46039f\"],[0.2222222222222222,\"#7201a8\"],[0.3333333333333333,\"#9c179e\"],[0.4444444444444444,\"#bd3786\"],[0.5555555555555556,\"#d8576b\"],[0.6666666666666666,\"#ed7953\"],[0.7777777777777778,\"#fb9f3a\"],[0.8888888888888888,\"#fdca26\"],[1.0,\"#f0f921\"]]}],\"surface\":[{\"type\":\"surface\",\"colorbar\":{\"outlinewidth\":0,\"ticks\":\"\"},\"colorscale\":[[0.0,\"#0d0887\"],[0.1111111111111111,\"#46039f\"],[0.2222222222222222,\"#7201a8\"],[0.3333333333333333,\"#9c179e\"],[0.4444444444444444,\"#bd3786\"],[0.5555555555555556,\"#d8576b\"],[0.6666666666666666,\"#ed7953\"],[0.7777777777777778,\"#fb9f3a\"],[0.8888888888888888,\"#fdca26\"],[1.0,\"#f0f921\"]]}],\"mesh3d\":[{\"type\":\"mesh3d\",\"colorbar\":{\"outlinewidth\":0,\"ticks\":\"\"}}],\"scatter\":[{\"fillpattern\":{\"fillmode\":\"overlay\",\"size\":10,\"solidity\":0.2},\"type\":\"scatter\"}],\"parcoords\":[{\"type\":\"parcoords\",\"line\":{\"colorbar\":{\"outlinewidth\":0,\"ticks\":\"\"}}}],\"scatterpolargl\":[{\"type\":\"scatterpolargl\",\"marker\":{\"colorbar\":{\"outlinewidth\":0,\"ticks\":\"\"}}}],\"bar\":[{\"error_x\":{\"color\":\"#2a3f5f\"},\"error_y\":{\"color\":\"#2a3f5f\"},\"marker\":{\"line\":{\"color\":\"#E5ECF6\",\"width\":0.5},\"pattern\":{\"fillmode\":\"overlay\",\"size\":10,\"solidity\":0.2}},\"type\":\"bar\"}],\"scattergeo\":[{\"type\":\"scattergeo\",\"marker\":{\"colorbar\":{\"outlinewidth\":0,\"ticks\":\"\"}}}],\"scatterpolar\":[{\"type\":\"scatterpolar\",\"marker\":{\"colorbar\":{\"outlinewidth\":0,\"ticks\":\"\"}}}],\"histogram\":[{\"marker\":{\"pattern\":{\"fillmode\":\"overlay\",\"size\":10,\"solidity\":0.2}},\"type\":\"histogram\"}],\"scattergl\":[{\"type\":\"scattergl\",\"marker\":{\"colorbar\":{\"outlinewidth\":0,\"ticks\":\"\"}}}],\"scatter3d\":[{\"type\":\"scatter3d\",\"line\":{\"colorbar\":{\"outlinewidth\":0,\"ticks\":\"\"}},\"marker\":{\"colorbar\":{\"outlinewidth\":0,\"ticks\":\"\"}}}],\"scattermapbox\":[{\"type\":\"scattermapbox\",\"marker\":{\"colorbar\":{\"outlinewidth\":0,\"ticks\":\"\"}}}],\"scatterternary\":[{\"type\":\"scatterternary\",\"marker\":{\"colorbar\":{\"outlinewidth\":0,\"ticks\":\"\"}}}],\"scattercarpet\":[{\"type\":\"scattercarpet\",\"marker\":{\"colorbar\":{\"outlinewidth\":0,\"ticks\":\"\"}}}],\"carpet\":[{\"aaxis\":{\"endlinecolor\":\"#2a3f5f\",\"gridcolor\":\"white\",\"linecolor\":\"white\",\"minorgridcolor\":\"white\",\"startlinecolor\":\"#2a3f5f\"},\"baxis\":{\"endlinecolor\":\"#2a3f5f\",\"gridcolor\":\"white\",\"linecolor\":\"white\",\"minorgridcolor\":\"white\",\"startlinecolor\":\"#2a3f5f\"},\"type\":\"carpet\"}],\"table\":[{\"cells\":{\"fill\":{\"color\":\"#EBF0F8\"},\"line\":{\"color\":\"white\"}},\"header\":{\"fill\":{\"color\":\"#C8D4E3\"},\"line\":{\"color\":\"white\"}},\"type\":\"table\"}],\"barpolar\":[{\"marker\":{\"line\":{\"color\":\"#E5ECF6\",\"width\":0.5},\"pattern\":{\"fillmode\":\"overlay\",\"size\":10,\"solidity\":0.2}},\"type\":\"barpolar\"}],\"pie\":[{\"automargin\":true,\"type\":\"pie\"}]},\"layout\":{\"autotypenumbers\":\"strict\",\"colorway\":[\"#636efa\",\"#EF553B\",\"#00cc96\",\"#ab63fa\",\"#FFA15A\",\"#19d3f3\",\"#FF6692\",\"#B6E880\",\"#FF97FF\",\"#FECB52\"],\"font\":{\"color\":\"#2a3f5f\"},\"hovermode\":\"closest\",\"hoverlabel\":{\"align\":\"left\"},\"paper_bgcolor\":\"white\",\"plot_bgcolor\":\"#E5ECF6\",\"polar\":{\"bgcolor\":\"#E5ECF6\",\"angularaxis\":{\"gridcolor\":\"white\",\"linecolor\":\"white\",\"ticks\":\"\"},\"radialaxis\":{\"gridcolor\":\"white\",\"linecolor\":\"white\",\"ticks\":\"\"}},\"ternary\":{\"bgcolor\":\"#E5ECF6\",\"aaxis\":{\"gridcolor\":\"white\",\"linecolor\":\"white\",\"ticks\":\"\"},\"baxis\":{\"gridcolor\":\"white\",\"linecolor\":\"white\",\"ticks\":\"\"},\"caxis\":{\"gridcolor\":\"white\",\"linecolor\":\"white\",\"ticks\":\"\"}},\"coloraxis\":{\"colorbar\":{\"outlinewidth\":0,\"ticks\":\"\"}},\"colorscale\":{\"sequential\":[[0.0,\"#0d0887\"],[0.1111111111111111,\"#46039f\"],[0.2222222222222222,\"#7201a8\"],[0.3333333333333333,\"#9c179e\"],[0.4444444444444444,\"#bd3786\"],[0.5555555555555556,\"#d8576b\"],[0.6666666666666666,\"#ed7953\"],[0.7777777777777778,\"#fb9f3a\"],[0.8888888888888888,\"#fdca26\"],[1.0,\"#f0f921\"]],\"sequentialminus\":[[0.0,\"#0d0887\"],[0.1111111111111111,\"#46039f\"],[0.2222222222222222,\"#7201a8\"],[0.3333333333333333,\"#9c179e\"],[0.4444444444444444,\"#bd3786\"],[0.5555555555555556,\"#d8576b\"],[0.6666666666666666,\"#ed7953\"],[0.7777777777777778,\"#fb9f3a\"],[0.8888888888888888,\"#fdca26\"],[1.0,\"#f0f921\"]],\"diverging\":[[0,\"#8e0152\"],[0.1,\"#c51b7d\"],[0.2,\"#de77ae\"],[0.3,\"#f1b6da\"],[0.4,\"#fde0ef\"],[0.5,\"#f7f7f7\"],[0.6,\"#e6f5d0\"],[0.7,\"#b8e186\"],[0.8,\"#7fbc41\"],[0.9,\"#4d9221\"],[1,\"#276419\"]]},\"xaxis\":{\"gridcolor\":\"white\",\"linecolor\":\"white\",\"ticks\":\"\",\"title\":{\"standoff\":15},\"zerolinecolor\":\"white\",\"automargin\":true,\"zerolinewidth\":2},\"yaxis\":{\"gridcolor\":\"white\",\"linecolor\":\"white\",\"ticks\":\"\",\"title\":{\"standoff\":15},\"zerolinecolor\":\"white\",\"automargin\":true,\"zerolinewidth\":2},\"scene\":{\"xaxis\":{\"backgroundcolor\":\"#E5ECF6\",\"gridcolor\":\"white\",\"linecolor\":\"white\",\"showbackground\":true,\"ticks\":\"\",\"zerolinecolor\":\"white\",\"gridwidth\":2},\"yaxis\":{\"backgroundcolor\":\"#E5ECF6\",\"gridcolor\":\"white\",\"linecolor\":\"white\",\"showbackground\":true,\"ticks\":\"\",\"zerolinecolor\":\"white\",\"gridwidth\":2},\"zaxis\":{\"backgroundcolor\":\"#E5ECF6\",\"gridcolor\":\"white\",\"linecolor\":\"white\",\"showbackground\":true,\"ticks\":\"\",\"zerolinecolor\":\"white\",\"gridwidth\":2}},\"shapedefaults\":{\"line\":{\"color\":\"#2a3f5f\"}},\"annotationdefaults\":{\"arrowcolor\":\"#2a3f5f\",\"arrowhead\":0,\"arrowwidth\":1},\"geo\":{\"bgcolor\":\"white\",\"landcolor\":\"#E5ECF6\",\"subunitcolor\":\"white\",\"showland\":true,\"showlakes\":true,\"lakecolor\":\"white\"},\"title\":{\"x\":0.05},\"mapbox\":{\"style\":\"light\"}}},\"xaxis\":{\"anchor\":\"y\",\"domain\":[0.0,1.0],\"title\":{\"text\":\"\"}},\"yaxis\":{\"anchor\":\"x\",\"domain\":[0.0,1.0],\"title\":{\"text\":\"Notas\"}},\"legend\":{\"tracegroupgap\":0},\"margin\":{\"t\":60},\"barmode\":\"relative\"},                        {\"responsive\": true}                    ).then(function(){\n",
       "                            \n",
       "var gd = document.getElementById('81cd552b-1e12-4233-a4cf-88a2f826d477');\n",
       "var x = new MutationObserver(function (mutations, observer) {{\n",
       "        var display = window.getComputedStyle(gd).display;\n",
       "        if (!display || display === 'none') {{\n",
       "            console.log([gd, 'removed!']);\n",
       "            Plotly.purge(gd);\n",
       "            observer.disconnect();\n",
       "        }}\n",
       "}});\n",
       "\n",
       "// Listen for the removal of the full notebook cells\n",
       "var notebookContainer = gd.closest('#notebook-container');\n",
       "if (notebookContainer) {{\n",
       "    x.observe(notebookContainer, {childList: true});\n",
       "}}\n",
       "\n",
       "// Listen for the clearing of the current output cell\n",
       "var outputEl = gd.closest('.output');\n",
       "if (outputEl) {{\n",
       "    x.observe(outputEl, {childList: true});\n",
       "}}\n",
       "\n",
       "                        })                };                });            </script>        </div>"
      ]
     },
     "metadata": {},
     "output_type": "display_data"
    }
   ],
   "source": [
    "x = genres.index\n",
    "y = genres['Rating']\n",
    "\n",
    "fig = px.bar(x=x, y=y)\n",
    "fig.update_yaxes(title=\"Notas\")\n",
    "fig.update_xaxes(title=\"\")\n",
    "fig.show()"
   ]
  },
  {
   "cell_type": "code",
   "execution_count": null,
   "id": "88b8217f-cc47-4669-9f52-873f1cccfb2b",
   "metadata": {},
   "outputs": [],
   "source": []
  },
  {
   "cell_type": "code",
   "execution_count": null,
   "id": "fff32821-d6ca-44b2-99da-edb7f8a02ded",
   "metadata": {},
   "outputs": [],
   "source": []
  }
 ],
 "metadata": {
  "kernelspec": {
   "display_name": "Python 3 (ipykernel)",
   "language": "python",
   "name": "python3"
  },
  "language_info": {
   "codemirror_mode": {
    "name": "ipython",
    "version": 3
   },
   "file_extension": ".py",
   "mimetype": "text/x-python",
   "name": "python",
   "nbconvert_exporter": "python",
   "pygments_lexer": "ipython3",
   "version": "3.10.12"
  }
 },
 "nbformat": 4,
 "nbformat_minor": 5
}
